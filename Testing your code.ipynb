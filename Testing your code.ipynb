{
 "cells": [
  {
   "cell_type": "markdown",
   "id": "fffc7dbe",
   "metadata": {},
   "source": [
    "Testing your code"
   ]
  },
  {
   "cell_type": "code",
   "execution_count": 4,
   "id": "c56004aa",
   "metadata": {},
   "outputs": [],
   "source": [
    "# 1:\n",
    "\n",
    "assert sum([1,2,3])==6, \"should be 6\""
   ]
  },
  {
   "cell_type": "code",
   "execution_count": 2,
   "id": "2284b66e",
   "metadata": {},
   "outputs": [
    {
     "ename": "AssertionError",
     "evalue": "",
     "output_type": "error",
     "traceback": [
      "\u001b[1;31m---------------------------------------------------------------------------\u001b[0m",
      "\u001b[1;31mAssertionError\u001b[0m                            Traceback (most recent call last)",
      "Input \u001b[1;32mIn [2]\u001b[0m, in \u001b[0;36m<cell line: 1>\u001b[1;34m()\u001b[0m\n\u001b[1;32m----> 1\u001b[0m \u001b[38;5;28;01massert\u001b[39;00m \u001b[38;5;28msum\u001b[39m ([\u001b[38;5;241m1\u001b[39m,\u001b[38;5;241m1\u001b[39m,\u001b[38;5;241m1\u001b[39m])\u001b[38;5;241m==\u001b[39m\u001b[38;5;241m6\u001b[39m\n",
      "\u001b[1;31mAssertionError\u001b[0m: "
     ]
    }
   ],
   "source": [
    "# 2:\n",
    "\n",
    "assert sum ([1,1,1])==6,\"should be 6\""
   ]
  },
  {
   "cell_type": "raw",
   "id": "2a5bf83a",
   "metadata": {},
   "source": [
    "# 3:\n",
    "\n",
    "def test_sum():\n",
    "    assert sum([1,2,3])==6\n",
    "    \n",
    "if_name_==\"_main_\":\n",
    "    test_sum()\n",
    "    print(\"Everything passed\")"
   ]
  },
  {
   "cell_type": "code",
   "execution_count": 5,
   "id": "50f5c510",
   "metadata": {},
   "outputs": [
    {
     "ename": "SyntaxError",
     "evalue": "invalid syntax (1626783895.py, line 4)",
     "output_type": "error",
     "traceback": [
      "\u001b[1;36m  Input \u001b[1;32mIn [5]\u001b[1;36m\u001b[0m\n\u001b[1;33m    def_name_==\"_main_\":\u001b[0m\n\u001b[1;37m                        ^\u001b[0m\n\u001b[1;31mSyntaxError\u001b[0m\u001b[1;31m:\u001b[0m invalid syntax\n"
     ]
    }
   ],
   "source": [
    "# 4:\n",
    "\n",
    "def test_sum():\n",
    "    assert sum([1,2,2])==6,\"should be 6\"\n",
    "    \n",
    "def_name_==\"_main_\":\n",
    "    test_sum()\n",
    "    test_sum_tuple()\n",
    "    print(\"Everything passed\")"
   ]
  },
  {
   "cell_type": "code",
   "execution_count": 6,
   "id": "f11a6008",
   "metadata": {},
   "outputs": [
    {
     "ename": "SyntaxError",
     "evalue": "invalid syntax (985609245.py, line 5)",
     "output_type": "error",
     "traceback": [
      "\u001b[1;36m  Input \u001b[1;32mIn [6]\u001b[1;36m\u001b[0m\n\u001b[1;33m    self.assertEqual(sum([1,2,3]),6 \"should be 6\")\u001b[0m\n\u001b[1;37m                                    ^\u001b[0m\n\u001b[1;31mSyntaxError\u001b[0m\u001b[1;31m:\u001b[0m invalid syntax\n"
     ]
    }
   ],
   "source": [
    "# 5:\n",
    "\n",
    "import unittest \n",
    "\n",
    "class TestSum(unittest.TestCase):\n",
    "    def test_sum(self):\n",
    "        self.assertEqual(sum([1,2,3]),6 \"should be 6\")\n",
    "    \n",
    "    def test_sum_tuple(self):\n",
    "        self.assertEqual(sum((1,2,2)),6,\"should be 6\")\n",
    "        \n",
    "        \n",
    "if_name_=='_main_':\n",
    "    unittest.main()"
   ]
  },
  {
   "cell_type": "code",
   "execution_count": 8,
   "id": "29e4ff6c",
   "metadata": {},
   "outputs": [
    {
     "ename": "SyntaxError",
     "evalue": "invalid syntax (1789557022.py, line 16)",
     "output_type": "error",
     "traceback": [
      "\u001b[1;36m  Input \u001b[1;32mIn [8]\u001b[1;36m\u001b[0m\n\u001b[1;33m    if_name_=='_main_':\u001b[0m\n\u001b[1;37m                       ^\u001b[0m\n\u001b[1;31mSyntaxError\u001b[0m\u001b[1;31m:\u001b[0m invalid syntax\n"
     ]
    }
   ],
   "source": [
    "# 6:\n",
    "\n",
    "import unittest\n",
    "\n",
    "from my_sum import sum\n",
    "\n",
    "\n",
    "class TestSum(unittest.TestCase):\n",
    "    def test_list_int(self):\n",
    "        \"\"\"\"\"\"\n",
    "        # Test that it can sum a list of integer\n",
    "        \"\"\"\"\"\"\n",
    "        data=[1,2,3]\n",
    "        result=sum(data)\n",
    "        self.assertEqual(data)\n",
    "        \n",
    "        \n",
    "if_name_=='_main_':\n",
    "    unittest.main()"
   ]
  },
  {
   "cell_type": "code",
   "execution_count": null,
   "id": "9c0ce30f",
   "metadata": {},
   "outputs": [],
   "source": [
    "Note:summary \n",
    "   \n",
    "1. Manual -which is unrealizing but helps make a change of lits of all features going through every single line.\n",
    "2. Automated tests help check our codes in the libraries.\n",
    "\n",
    "When we use Jupiter notebook, sum(), accepts any iterable as its first argument.\n",
    "The executed test will give an error message because the sum() of (1,2,2) is 5, not 6, in number 4.\n",
    "Where as sum() of (1,2,3) is 6 which is correct and we didn’t get the out put in number 1\n",
    "If we want to test our code correctly, we should write it outside Jupyter and import it into cells.\n",
    "This will allow us to use Python's unittest module or py. test to write a test for our code separately from jupyter. \n",
    "\n",
    " "
   ]
  }
 ],
 "metadata": {
  "kernelspec": {
   "display_name": "Python 3 (ipykernel)",
   "language": "python",
   "name": "python3"
  },
  "language_info": {
   "codemirror_mode": {
    "name": "ipython",
    "version": 3
   },
   "file_extension": ".py",
   "mimetype": "text/x-python",
   "name": "python",
   "nbconvert_exporter": "python",
   "pygments_lexer": "ipython3",
   "version": "3.9.12"
  }
 },
 "nbformat": 4,
 "nbformat_minor": 5
}
