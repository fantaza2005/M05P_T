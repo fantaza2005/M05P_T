{
 "cells": [
  {
   "cell_type": "markdown",
   "id": "ff17c4eb",
   "metadata": {},
   "source": [
    "Executing Test Runner"
   ]
  },
  {
   "cell_type": "code",
   "execution_count": 66,
   "id": "5ffe9c0f",
   "metadata": {},
   "outputs": [],
   "source": [
    "def add(a,b):\n",
    "    return a+b\n",
    "\n"
   ]
  },
  {
   "cell_type": "code",
   "execution_count": 4,
   "id": "a164c449",
   "metadata": {},
   "outputs": [
    {
     "ename": "NameError",
     "evalue": "name 'unittest' is not defined",
     "output_type": "error",
     "traceback": [
      "\u001b[1;31m---------------------------------------------------------------------------\u001b[0m",
      "\u001b[1;31mNameError\u001b[0m                                 Traceback (most recent call last)",
      "Input \u001b[1;32mIn [4]\u001b[0m, in \u001b[0;36m<cell line: 4>\u001b[1;34m()\u001b[0m\n\u001b[0;32m      1\u001b[0m \u001b[38;5;66;03m# import unittest\u001b[39;00m\n\u001b[0;32m      2\u001b[0m \u001b[38;5;66;03m# from my_sum import sum\u001b[39;00m\n\u001b[1;32m----> 4\u001b[0m \u001b[38;5;28;01mclass\u001b[39;00m \u001b[38;5;21;01mTestSum\u001b[39;00m(\u001b[43munittest\u001b[49m\u001b[38;5;241m.\u001b[39mTestCase):\n\u001b[0;32m      5\u001b[0m     \u001b[38;5;124;03m'''\u001b[39;00m\n\u001b[0;32m      6\u001b[0m \u001b[38;5;124;03m    Test that it can sum a list of integers\u001b[39;00m\n\u001b[0;32m      7\u001b[0m \u001b[38;5;124;03m    '''\u001b[39;00m\n\u001b[0;32m      8\u001b[0m     data\u001b[38;5;241m=\u001b[39m[\u001b[38;5;241m1\u001b[39m,\u001b[38;5;241m2\u001b[39m,\u001b[38;5;241m3\u001b[39m]\n",
      "\u001b[1;31mNameError\u001b[0m: name 'unittest' is not defined"
     ]
    }
   ],
   "source": [
    "import unittest\n",
    " from my_sum import sum\n",
    "\n",
    "class TestSum(unittest.TestCase):\n",
    "    '''\n",
    "    Test that it can sum a list of integers\n",
    "    '''\n",
    "    data=[1,2,3]\n",
    "    result=sum(data)\n",
    "    self.assertEqual(result,6)\n",
    "    \n",
    "def test_list_fraction(self):\n",
    "    '''\n",
    "    Test that it can sum a list of fractions\n",
    "    '''\n",
    "    data=[Fraction(1,4),Fraction(1,4),Fraction(2,5)]\n",
    "    result=sum(data)\n",
    "    self.assertEqual(result,1)\n",
    "    \n",
    "# if_name_=='main_':\n",
    "    unittest.main()"
   ]
  },
  {
   "cell_type": "code",
   "execution_count": 12,
   "id": "c8abfb94",
   "metadata": {},
   "outputs": [],
   "source": [
    " from django.test import TestCase\n",
    "\n",
    " class MyTestCase(TestCase):\n",
    "    "
   ]
  },
  {
   "cell_type": "code",
   "execution_count": 9,
   "id": "ebfc303c",
   "metadata": {},
   "outputs": [
    {
     "name": "stdout",
     "output_type": "stream",
     "text": [
      "0\n",
      "1\n",
      "2\n",
      "3\n",
      "4\n",
      "5\n",
      "6\n",
      "7\n"
     ]
    }
   ],
   "source": [
    "#import time, sys\n",
    "for i in range(8):\n",
    "    print(i)\n",
    "    time.sleep(0.5)"
   ]
  },
  {
   "cell_type": "code",
   "execution_count": 46,
   "id": "f1da5c1a",
   "metadata": {},
   "outputs": [
    {
     "name": "stdout",
     "output_type": "stream",
     "text": [
      "0\n",
      "1\n",
      "2\n",
      "3\n",
      "4\n",
      "5\n",
      "6\n",
      "7\n",
      "8\n",
      "9\n",
      "10\n",
      "11\n",
      "12\n",
      "13\n",
      "14\n",
      "15\n",
      "16\n",
      "17\n",
      "18\n",
      "19\n",
      "20\n",
      "21\n",
      "22\n",
      "23\n",
      "24\n",
      "25\n",
      "26\n",
      "27\n",
      "28\n",
      "29\n",
      "30\n",
      "31\n",
      "32\n",
      "33\n",
      "34\n",
      "35\n",
      "36\n",
      "37\n",
      "38\n",
      "39\n",
      "40\n",
      "41\n",
      "42\n",
      "43\n",
      "44\n",
      "45\n",
      "46\n",
      "47\n",
      "48\n",
      "49\n"
     ]
    }
   ],
   "source": [
    "for i in range(50):\n",
    "    print(i)"
   ]
  },
  {
   "cell_type": "code",
   "execution_count": 75,
   "id": "2887f498",
   "metadata": {},
   "outputs": [
    {
     "name": "stderr",
     "output_type": "stream",
     "text": [
      "test_case1 (__main__.testRecom) ... ok\n",
      "test_case2 (__main__.testRecom) ... FAIL\n",
      "\n",
      "======================================================================\n",
      "FAIL: test_case2 (__main__.testRecom)\n",
      "----------------------------------------------------------------------\n",
      "Traceback (most recent call last):\n",
      "  File \"C:\\Users\\fanta\\AppData\\Local\\Temp\\ipykernel_8408\\1369976659.py\", line 18, in test_case2\n",
      "    self.assertTrue(self.inst.y == 1)\n",
      "AssertionError: False is not true\n",
      "\n",
      "----------------------------------------------------------------------\n",
      "Ran 2 tests in 0.007s\n",
      "\n",
      "FAILED (failures=1)\n"
     ]
    },
    {
     "data": {
      "text/plain": [
       "<unittest.main.TestProgram at 0x1baa7b21850>"
      ]
     },
     "execution_count": 75,
     "metadata": {},
     "output_type": "execute_result"
    }
   ],
   "source": [
    "\n",
    "import unittest\n",
    "\n",
    "class recom():\n",
    "    def __init__(self):\n",
    "        self.x = 1\n",
    "        self.y = 2\n",
    "\n",
    "class testRecom(unittest.TestCase):\n",
    "\n",
    "    def setUp(self):\n",
    "        self.inst = recom()\n",
    "\n",
    "    def test_case1(self):\n",
    "        self.assertTrue(self.inst.x == 1) \n",
    "\n",
    "    def test_case2(self):\n",
    "        self.assertTrue(self.inst.y == 1) \n",
    "\n",
    "unittest.main(argv=[''], verbosity=2, exit=False)"
   ]
  },
  {
   "cell_type": "code",
   "execution_count": 76,
   "id": "a461c3a3",
   "metadata": {},
   "outputs": [
    {
     "ename": "ModuleNotFoundError",
     "evalue": "No module named 'my_app'",
     "output_type": "error",
     "traceback": [
      "\u001b[1;31m---------------------------------------------------------------------------\u001b[0m",
      "\u001b[1;31mModuleNotFoundError\u001b[0m                       Traceback (most recent call last)",
      "Input \u001b[1;32mIn [76]\u001b[0m, in \u001b[0;36m<cell line: 3>\u001b[1;34m()\u001b[0m\n\u001b[0;32m      1\u001b[0m \u001b[38;5;66;03m# import mynotebook\u001b[39;00m\n\u001b[1;32m----> 3\u001b[0m \u001b[38;5;28;01mimport\u001b[39;00m \u001b[38;5;21;01mmy_app\u001b[39;00m\n\u001b[0;32m      4\u001b[0m \u001b[38;5;28;01mimport\u001b[39;00m \u001b[38;5;21;01munittest\u001b[39;00m\n\u001b[0;32m      5\u001b[0m \u001b[38;5;28;01mclass\u001b[39;00m \u001b[38;5;21;01mMyTestCase\u001b[39;00m(unittest\u001b[38;5;241m.\u001b[39mTestCase):\n",
      "\u001b[1;31mModuleNotFoundError\u001b[0m: No module named 'my_app'"
     ]
    }
   ],
   "source": [
    "\n",
    "\n",
    "import my_app\n",
    "import unittest\n",
    "class MyTestCase(unittest.TestCase):\n",
    "\n",
    "    def test_dummy(self):\n",
    "        self.assertEqual(2+2,4)\n",
    "\n",
    "class MyTestCase(unittest.TestCase):\n",
    "    def setUp(self):\n",
    "        my_app.app.testing=True\n",
    "        self.app=my_app.app.test_client()\n",
    "        \n",
    "    def test_home(self):\n",
    "        result=self.app.get('/')\n",
    "   "
   ]
  },
  {
   "cell_type": "code",
   "execution_count": 78,
   "id": "9c666057",
   "metadata": {},
   "outputs": [
    {
     "ename": "ModuleNotFoundError",
     "evalue": "No module named 'my_sum'",
     "output_type": "error",
     "traceback": [
      "\u001b[1;31m---------------------------------------------------------------------------\u001b[0m",
      "\u001b[1;31mModuleNotFoundError\u001b[0m                       Traceback (most recent call last)",
      "Input \u001b[1;32mIn [78]\u001b[0m, in \u001b[0;36m<cell line: 2>\u001b[1;34m()\u001b[0m\n\u001b[0;32m      1\u001b[0m \u001b[38;5;28;01mimport\u001b[39;00m \u001b[38;5;21;01munittest\u001b[39;00m\n\u001b[1;32m----> 2\u001b[0m \u001b[38;5;28;01mfrom\u001b[39;00m \u001b[38;5;21;01mmy_sum\u001b[39;00m \u001b[38;5;28;01mimport\u001b[39;00m \u001b[38;5;28msum\u001b[39m\n\u001b[0;32m      4\u001b[0m \u001b[38;5;28;01mclass\u001b[39;00m \u001b[38;5;21;01mTestSum\u001b[39;00m(unittest\u001b[38;5;241m.\u001b[39mTestCase):\n\u001b[0;32m      5\u001b[0m     \u001b[38;5;124;03m'''\u001b[39;00m\n\u001b[0;32m      6\u001b[0m \u001b[38;5;124;03m    Test that it can sum a list of integers\u001b[39;00m\n\u001b[0;32m      7\u001b[0m \u001b[38;5;124;03m    '''\u001b[39;00m\n",
      "\u001b[1;31mModuleNotFoundError\u001b[0m: No module named 'my_sum'"
     ]
    }
   ],
   "source": [
    "import unittest\n",
    "from my_sum import sum\n",
    "\n",
    "class TestSum(unittest.TestCase):\n",
    "    '''\n",
    "    Test that it can sum a list of integers\n",
    "    '''\n",
    "    data=[1,2,3]\n",
    "    result=sum(data)\n",
    "    self.assertEqual(result,6)\n",
    "    \n",
    "def test_list_fraction(self):\n",
    "    '''\n",
    "    Test that it can sum a list of fractions\n",
    "    '''\n",
    "    data=[Fraction(1,4),Fraction(1,4),Fraction(2,5)]\n",
    "    result=sum(data)\n",
    "    self.assertEqual(result,1)\n",
    "    \n",
    "def test_bad_type(self):\n",
    "    data=\"banana\"\n",
    "    with self.assertRaises(TypeError):\n",
    "        result=sum(data)\n",
    "    \n",
    "# if_name_=='main_':\n",
    "    unittest.main()"
   ]
  },
  {
   "cell_type": "code",
   "execution_count": 84,
   "id": "e1722c77",
   "metadata": {},
   "outputs": [
    {
     "ename": "SyntaxError",
     "evalue": "invalid syntax (3923736672.py, line 26)",
     "output_type": "error",
     "traceback": [
      "\u001b[1;36m  Input \u001b[1;32mIn [84]\u001b[1;36m\u001b[0m\n\u001b[1;33m    def test_existence _of_customer(self):\u001b[0m\n\u001b[1;37m                       ^\u001b[0m\n\u001b[1;31mSyntaxError\u001b[0m\u001b[1;31m:\u001b[0m invalid syntax\n"
     ]
    }
   ],
   "source": [
    "import unittest\n",
    "\n",
    "class TestBasic(unittest.TestCase):\n",
    "    def setUp(self):\n",
    "        #load test data\n",
    "        self.app(database='fixtures/test_basic.json')\n",
    "        \n",
    "        \n",
    "    def test_customer_count(self):\n",
    "        self.assertEqual(len(self.app.customers),100)\n",
    "        \n",
    "    def test_existence_of_customer(self):\n",
    "        customer=self.app.get_customer(id=10)\n",
    "        self.assertEqual(customer.name,\"Org XYX\")\n",
    "        self.assertEqual(customer.address,\"10 Red Road, Reading\")\n",
    "        \n",
    "        \n",
    "class TestComlexData(unittest.TestCase):\n",
    "    def setUp(self):\n",
    "        #load test data\n",
    "        self.app=App(database='fixtures/test_complex.json') \n",
    "        \n",
    "    def test_customer_coun(self):\n",
    "        self.assertEqual(len(self.app.customer),10000)\n",
    "        \n",
    "    def test_existence _of_customer(self):\n",
    "        customer=self.app.get_customer(id=9999)\n",
    "        self.assertEqual(customer.name,u\"jth\")\n",
    "        self.assertEqual(customer.address,\"10 Red Road,Akihabara,Tokyo\")\n",
    "if_name_=='main_':\n",
    "    unittest.main()"
   ]
  },
  {
   "cell_type": "code",
   "execution_count": 83,
   "id": "38cab0bd",
   "metadata": {},
   "outputs": [
    {
     "ename": "TypeError",
     "evalue": "time.time() takes no arguments (1 given)",
     "output_type": "error",
     "traceback": [
      "\u001b[1;31m---------------------------------------------------------------------------\u001b[0m",
      "\u001b[1;31mTypeError\u001b[0m                                 Traceback (most recent call last)",
      "Input \u001b[1;32mIn [83]\u001b[0m, in \u001b[0;36m<cell line: 6>\u001b[1;34m()\u001b[0m\n\u001b[0;32m      1\u001b[0m \u001b[38;5;66;03m# def test()\u001b[39;00m\n\u001b[0;32m      2\u001b[0m    \u001b[38;5;66;03m#...your code\u001b[39;00m\n\u001b[0;32m      3\u001b[0m \n\u001b[0;32m      4\u001b[0m \u001b[38;5;66;03m# if_name_=='_main_':\u001b[39;00m\n\u001b[0;32m      5\u001b[0m \u001b[38;5;28;01mimport\u001b[39;00m \u001b[38;5;21;01mtimeit\u001b[39;00m\n\u001b[1;32m----> 6\u001b[0m \u001b[38;5;28mprint\u001b[39m(\u001b[43mtime\u001b[49m\u001b[38;5;241;43m.\u001b[39;49m\u001b[43mtime\u001b[49m\u001b[43m(\u001b[49m\u001b[38;5;124;43m\"\u001b[39;49m\u001b[38;5;124;43mtest()\u001b[39;49m\u001b[38;5;124;43m\"\u001b[39;49m\u001b[43m)\u001b[49m,setup\u001b[38;5;241m=\u001b[39m\u001b[38;5;124m\"\u001b[39m\u001b[38;5;124mfrom_main_import test\u001b[39m\u001b[38;5;124m\"\u001b[39m,number\u001b[38;5;241m=\u001b[39m\u001b[38;5;241m100\u001b[39m)\n",
      "\u001b[1;31mTypeError\u001b[0m: time.time() takes no arguments (1 given)"
     ]
    }
   ],
   "source": [
    "# def test()\n",
    "   #...your code\n",
    "\n",
    "# if_name_=='_main_':\n",
    "import timeit\n",
    "print(time.time(\"test()\"),setup=\"from_main_import test\",number=100)"
   ]
  },
  {
   "cell_type": "code",
   "execution_count": null,
   "id": "4a70c2c2",
   "metadata": {},
   "outputs": [],
   "source": [
    "  Summary \n",
    "    \n",
    "When we execute in a single cell of jupyter notebook, we can get the output running successfully; because it is a straightforward test.\n",
    "   \n",
    "But when we perform a group of cells, coding might not give a successful outcome since we didn't check our executing code modules and needs to import appropriate.\n",
    "If this is the case, the executing runner cannot test the code well, and it can print out the assertion error message. \n",
    "For this solution, we can import the ipynb module as an option for definitions and globals using the \"ipynb.fs.defs\" syntax. \n",
    "This allowed us to access the functions and objects provided by the standard library and by NumPy, which can help us execute successfully and get error-free message output."
   ]
  }
 ],
 "metadata": {
  "kernelspec": {
   "display_name": "Python 3 (ipykernel)",
   "language": "python",
   "name": "python3"
  },
  "language_info": {
   "codemirror_mode": {
    "name": "ipython",
    "version": 3
   },
   "file_extension": ".py",
   "mimetype": "text/x-python",
   "name": "python",
   "nbconvert_exporter": "python",
   "pygments_lexer": "ipython3",
   "version": "3.9.12"
  }
 },
 "nbformat": 4,
 "nbformat_minor": 5
}
