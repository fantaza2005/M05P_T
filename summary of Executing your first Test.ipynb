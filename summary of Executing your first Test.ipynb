{
 "cells": [
  {
   "cell_type": "code",
   "execution_count": null,
   "id": "6bad3866",
   "metadata": {},
   "outputs": [],
   "source": [
    "When we execute in a single cell of jupyter notebook, we can get the \n",
    "Output running successfully; because it is a straightforward test. \n",
    "But when we perform a group of cells, coding might not give a successful outcome \n",
    "since we didn't check our executing code modules and needs to import appropriate. \n",
    "If this is the case, the executing runner cannot test the code well, and it can print out the assertion error message.\n",
    "So, we can import the ipynb module as an option for definitions and globals using the \"ipynb.fs.defs\" syntax \n",
    "for this solution. This allowed us to access the functions and objects provided by the standard library and by NumPy,\n",
    "which can help us execute successfully and get error-free message output."
   ]
  }
 ],
 "metadata": {
  "kernelspec": {
   "display_name": "Python 3 (ipykernel)",
   "language": "python",
   "name": "python3"
  },
  "language_info": {
   "codemirror_mode": {
    "name": "ipython",
    "version": 3
   },
   "file_extension": ".py",
   "mimetype": "text/x-python",
   "name": "python",
   "nbconvert_exporter": "python",
   "pygments_lexer": "ipython3",
   "version": "3.9.12"
  }
 },
 "nbformat": 4,
 "nbformat_minor": 5
}
