{
 "cells": [
  {
   "cell_type": "markdown",
   "id": "a498818c",
   "metadata": {},
   "source": [
    "Writing Your First Testing"
   ]
  },
  {
   "cell_type": "code",
   "execution_count": 2,
   "id": "46983f93",
   "metadata": {},
   "outputs": [],
   "source": [
    "def sum(arg):\n",
    "    total=0\n",
    "    for val in arg:\n",
    "        total +=val\n",
    "    return total"
   ]
  },
  {
   "cell_type": "code",
   "execution_count": 4,
   "id": "518c0507",
   "metadata": {},
   "outputs": [
    {
     "ename": "ModuleNotFoundError",
     "evalue": "No module named 'my_sum'",
     "output_type": "error",
     "traceback": [
      "\u001b[1;31m---------------------------------------------------------------------------\u001b[0m",
      "\u001b[1;31mModuleNotFoundError\u001b[0m                       Traceback (most recent call last)",
      "Input \u001b[1;32mIn [4]\u001b[0m, in \u001b[0;36m<cell line: 1>\u001b[1;34m()\u001b[0m\n\u001b[1;32m----> 1\u001b[0m \u001b[38;5;28;01mimport\u001b[39;00m \u001b[38;5;21;01mmy_sum\u001b[39;00m\n\u001b[0;32m      2\u001b[0m target\u001b[38;5;241m=\u001b[39m_import_(\u001b[38;5;124m\"\u001b[39m\u001b[38;5;124mmy_sum.py\u001b[39m\u001b[38;5;124m\"\u001b[39m)\n\u001b[0;32m      3\u001b[0m \u001b[38;5;28msum\u001b[39m\u001b[38;5;241m=\u001b[39mtarget\u001b[38;5;241m.\u001b[39msum\n",
      "\u001b[1;31mModuleNotFoundError\u001b[0m: No module named 'my_sum'"
     ]
    }
   ],
   "source": [
    "import my_sum\n",
    "target=_import_(\"my_sum.py\")\n",
    "sum=target.sum"
   ]
  },
  {
   "cell_type": "code",
   "execution_count": 8,
   "id": "71064f8a",
   "metadata": {},
   "outputs": [
    {
     "ename": "SyntaxError",
     "evalue": "invalid syntax (3903388015.py, line 14)",
     "output_type": "error",
     "traceback": [
      "\u001b[1;36m  Input \u001b[1;32mIn [8]\u001b[1;36m\u001b[0m\n\u001b[1;33m    if_name_=='_main_':\u001b[0m\n\u001b[1;37m                       ^\u001b[0m\n\u001b[1;31mSyntaxError\u001b[0m\u001b[1;31m:\u001b[0m invalid syntax\n"
     ]
    }
   ],
   "source": [
    "import unittest\n",
    "from my_sum import sum\n",
    "\n",
    "class TestSum(unittest.TestCase):\n",
    "    def test_list_int(self):\n",
    "        \n",
    "        '''\n",
    "        Test that it can sum a list of  integers\n",
    "        '''\n",
    "        data=[1,2,3]\n",
    "        result=sum(data)\n",
    "        self.assertEqual(result,6)\n",
    "        \n",
    "if_name_=='_main_':\n",
    "    "
   ]
  },
  {
   "cell_type": "code",
   "execution_count": 13,
   "id": "361d0dd6",
   "metadata": {},
   "outputs": [
    {
     "ename": "SyntaxError",
     "evalue": "invalid syntax (52867619.py, line 20)",
     "output_type": "error",
     "traceback": [
      "\u001b[1;36m  Input \u001b[1;32mIn [13]\u001b[1;36m\u001b[0m\n\u001b[1;33m    if_name_=='_main_':\u001b[0m\n\u001b[1;37m                       ^\u001b[0m\n\u001b[1;31mSyntaxError\u001b[0m\u001b[1;31m:\u001b[0m invalid syntax\n"
     ]
    }
   ],
   "source": [
    "import unittest\n",
    "from my_sum import sum\n",
    "\n",
    "class TestSum(unittest.TestCase):\n",
    "      def test_list_int(self):\n",
    "        '''\n",
    "        Test that it can sum a list of integers\n",
    "        '''\n",
    "        data=[1,2,3]\n",
    "        result=sum(data)\n",
    "        self.assertEqual(result,0)\n",
    "        \n",
    "        def test_list_fraction(self):\n",
    "         '''\n",
    "        Test that it can sum a list of fracrions\n",
    "         '''\n",
    "        data=[Fraction(1,4),Fraction(1,4),Fraction(2,5)]\n",
    "        result=sum(data)\n",
    "        self.assertEqual(result,1)\n",
    "if_name_=='_main_':\n",
    "    unittest.main()\n",
    "    "
   ]
  },
  {
   "cell_type": "code",
   "execution_count": 14,
   "id": "7198a096",
   "metadata": {},
   "outputs": [
    {
     "ename": "SyntaxError",
     "evalue": "invalid syntax (2403772138.py, line 29)",
     "output_type": "error",
     "traceback": [
      "\u001b[1;36m  Input \u001b[1;32mIn [14]\u001b[1;36m\u001b[0m\n\u001b[1;33m    if_name_=='_main_':\u001b[0m\n\u001b[1;37m                       ^\u001b[0m\n\u001b[1;31mSyntaxError\u001b[0m\u001b[1;31m:\u001b[0m invalid syntax\n"
     ]
    }
   ],
   "source": [
    "import unittest\n",
    "\n",
    "class TestBasic(unittest.TestCase):\n",
    "    def setUp(self):\n",
    "        #Load test data\n",
    "        self.app=App(database='fixtures/test_basic,json')\n",
    "        \n",
    "    def test_customer_count(self):\n",
    "        self.assertEqual(len(self.app.customer),100)\n",
    "        \n",
    "    def test_existence_of_customer(self):\n",
    "        customer=self.app.get_customer(id=10)\n",
    "        self.assertEqual(customer.name, \"Org XYZ\")\n",
    "        self.assertEqual(customer.address,\"10 Red Road,Reading\")\n",
    "        \n",
    "        \n",
    "class TestComlexData(unittest.TestCase):\n",
    "    def setUp(self):\n",
    "        #load test data\n",
    "        self.app=App(database='fixtures/test_complex.json')\n",
    "        \n",
    "    def test_customer_count(self):\n",
    "        self.assertEqual(len(self.app.customers),10000)\n",
    "    def test_existence_of_customer(self):\n",
    "        customer=self.app.get_customer(id=9999)\n",
    "        self.assertEqual(customer.name,u\"thy\")\n",
    "        self.assertEqual(customer.address,\"10 Red Road,Akihabara,Tokyo\")\n",
    "        \n",
    "if_name_=='_main_':\n",
    "    unittest.main()\n",
    "        \n",
    "   "
   ]
  },
  {
   "cell_type": "code",
   "execution_count": 15,
   "id": "20c2dc85",
   "metadata": {},
   "outputs": [
    {
     "ename": "IndentationError",
     "evalue": "expected an indented block (3171172639.py, line 5)",
     "output_type": "error",
     "traceback": [
      "\u001b[1;36m  Input \u001b[1;32mIn [15]\u001b[1;36m\u001b[0m\n\u001b[1;33m    #your test method\u001b[0m\n\u001b[1;37m                     ^\u001b[0m\n\u001b[1;31mIndentationError\u001b[0m\u001b[1;31m:\u001b[0m expected an indented block\n"
     ]
    }
   ],
   "source": [
    "from django.test import TestCase\n",
    "\n",
    "\n",
    "class MyTestCase(TestCase):\n",
    "    #your test method"
   ]
  },
  {
   "cell_type": "code",
   "execution_count": 16,
   "id": "4d1c831a",
   "metadata": {},
   "outputs": [
    {
     "ename": "ModuleNotFoundError",
     "evalue": "No module named 'my_app'",
     "output_type": "error",
     "traceback": [
      "\u001b[1;31m---------------------------------------------------------------------------\u001b[0m",
      "\u001b[1;31mModuleNotFoundError\u001b[0m                       Traceback (most recent call last)",
      "Input \u001b[1;32mIn [16]\u001b[0m, in \u001b[0;36m<cell line: 1>\u001b[1;34m()\u001b[0m\n\u001b[1;32m----> 1\u001b[0m \u001b[38;5;28;01mimport\u001b[39;00m \u001b[38;5;21;01mmy_app\u001b[39;00m\n\u001b[0;32m      2\u001b[0m \u001b[38;5;28;01mimport\u001b[39;00m \u001b[38;5;21;01munittest\u001b[39;00m\n\u001b[0;32m      4\u001b[0m \u001b[38;5;28;01mclass\u001b[39;00m \u001b[38;5;21;01mMyTestCase\u001b[39;00m(unittest\u001b[38;5;241m.\u001b[39mTestCase):\n",
      "\u001b[1;31mModuleNotFoundError\u001b[0m: No module named 'my_app'"
     ]
    }
   ],
   "source": [
    "import my_app\n",
    "import unittest\n",
    "\n",
    "class MyTestCase(unittest.TestCase):\n",
    "    \n",
    "    def setUp(self):\n",
    "        my_app.app.testing=True\n",
    "        self.app=my_app.test_client()\n",
    "    def test_home(self):\n",
    "        result=self.app.get('/')\n",
    "        "
   ]
  },
  {
   "cell_type": "code",
   "execution_count": 17,
   "id": "7c7c8436",
   "metadata": {},
   "outputs": [
    {
     "ename": "SyntaxError",
     "evalue": "invalid syntax (1575720134.py, line 30)",
     "output_type": "error",
     "traceback": [
      "\u001b[1;36m  Input \u001b[1;32mIn [17]\u001b[1;36m\u001b[0m\n\u001b[1;33m    if_name_=='_main_':\u001b[0m\n\u001b[1;37m                       ^\u001b[0m\n\u001b[1;31mSyntaxError\u001b[0m\u001b[1;31m:\u001b[0m invalid syntax\n"
     ]
    }
   ],
   "source": [
    "import unittest\n",
    "from my_sum import sum\n",
    "\n",
    "class TestBasic(unittest.TestCase):\n",
    "    def setUp(self):\n",
    "        #Load test data\n",
    "        self.app=App(database='fixtures/test_basic,json')\n",
    "        \n",
    "    def test_customer_count(self):\n",
    "        self.assertEqual(len(self.app.customer),100)\n",
    "        \n",
    "    def test_existence_of_customer(self):\n",
    "        customer=self.app.get_customer(id=10)\n",
    "        self.assertEqual(customer.name, \"Org XYZ\")\n",
    "        self.assertEqual(customer.address,\"10 Red Road,Reading\")\n",
    "        \n",
    "        \n",
    "class TestComlexData(unittest.TestCase):\n",
    "    def setUp(self):\n",
    "        #load test data\n",
    "        self.app=App(database='fixtures/test_complex.json')\n",
    "        \n",
    "    def test_customer_count(self):\n",
    "        self.assertEqual(len(self.app.customers),10000)\n",
    "    def test_existence_of_customer(self):\n",
    "        customer=self.app.get_customer(id=9999)\n",
    "        self.assertEqual(customer.name,u\"thy\")\n",
    "        self.assertEqual(customer.address,\"10 Red Road,Akihabara,Tokyo\")\n",
    "        \n",
    "if_name_=='_main_':\n",
    "    unittest.main()"
   ]
  },
  {
   "cell_type": "code",
   "execution_count": null,
   "id": "53c182e7",
   "metadata": {},
   "outputs": [],
   "source": [
    "Summary \n",
    "\n",
    "\n",
    "We can see that most of the outputs are showing error messages.\n",
    "Before executing our code in the jupyter notebook, we should have checked everything correctly setup by \n",
    "inserting the necessary tests or units.\n",
    "For example, when we test with the unittest, we should put our test methods in separate modules. \n",
    "Or we can use it in a mix of processes inside the main module. Then we would need to execute the unittest.\n",
    "main method, essentially, as the default method inside_main_ guard.\n",
    "We know that unit testing is a single unit of source code tested individually.\n",
    "The built-in sum() function test implements the exact requirement. \n",
    "This is why we found \"ModuleNotFoundError: No module named 'my_sum'\"\n"
   ]
  }
 ],
 "metadata": {
  "kernelspec": {
   "display_name": "Python 3 (ipykernel)",
   "language": "python",
   "name": "python3"
  },
  "language_info": {
   "codemirror_mode": {
    "name": "ipython",
    "version": 3
   },
   "file_extension": ".py",
   "mimetype": "text/x-python",
   "name": "python",
   "nbconvert_exporter": "python",
   "pygments_lexer": "ipython3",
   "version": "3.9.12"
  }
 },
 "nbformat": 4,
 "nbformat_minor": 5
}
